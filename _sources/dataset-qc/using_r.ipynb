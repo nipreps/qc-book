{
 "cells": [
  {
   "cell_type": "markdown",
   "id": "747d7a7d",
   "metadata": {},
   "source": [
    "# Trying to use R"
   ]
  },
  {
   "cell_type": "code",
   "execution_count": 1,
   "id": "edc1282e",
   "metadata": {},
   "outputs": [
    {
     "data": {
      "text/plain": [
       "\n",
       "     Balanced one-way analysis of variance power calculation \n",
       "\n",
       "              k = 2\n",
       "              n = 600\n",
       "              f = 0.1055314\n",
       "      sig.level = 0.005\n",
       "          power = 0.8\n",
       "\n",
       "NOTE: n is number in each group\n"
      ]
     },
     "metadata": {},
     "output_type": "display_data"
    }
   ],
   "source": [
    "library(pwr)\n",
    "\n",
    "pwr.anova.test(k=2, n=600, sig.level=0.005, power=0.8)"
   ]
  }
 ],
 "metadata": {
  "jupytext": {
   "formats": "md:myst",
   "text_representation": {
    "extension": ".md",
    "format_name": "myst"
   }
  },
  "kernelspec": {
   "display_name": "R",
   "language": "R",
   "name": "ir"
  },
  "language_info": {
   "codemirror_mode": "r",
   "file_extension": ".r",
   "mimetype": "text/x-r-source",
   "name": "R",
   "pygments_lexer": "r",
   "version": "4.1.3"
  },
  "source_map": [
   11,
   15
  ]
 },
 "nbformat": 4,
 "nbformat_minor": 5
}