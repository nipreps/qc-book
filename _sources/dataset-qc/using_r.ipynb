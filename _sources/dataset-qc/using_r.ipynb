{
 "cells": [
  {
   "cell_type": "markdown",
   "id": "f4a9e3e3",
   "metadata": {},
   "source": [
    "# Trying to use R"
   ]
  },
  {
   "cell_type": "code",
   "execution_count": 1,
   "id": "af37d791",
   "metadata": {},
   "outputs": [
    {
     "data": {
      "text/plain": [
       "\n",
       "     Balanced one-way analysis of variance power calculation \n",
       "\n",
       "              k = 2\n",
       "              n = 600\n",
       "              f = 0.1055314\n",
       "      sig.level = 0.005\n",
       "          power = 0.8\n",
       "\n",
       "NOTE: n is number in each group\n"
      ]
     },
     "metadata": {},
     "output_type": "display_data"
    },
    {
     "ename": "ERROR",
     "evalue": "Error in readNifti(fname): object 'fname' not found\n",
     "output_type": "error",
     "traceback": [
      "Error in readNifti(fname): object 'fname' not found\nTraceback:\n",
      "1. readNifti(fname)"
     ]
    }
   ],
   "source": [
    "library(pwr)\n",
    "\n",
    "pwr.anova.test(k=2, n=600, sig.level=0.005, power=0.8)\n",
    "\n",
    "# little example of plotting and getting info from niftis:\n",
    "library(RNifti);  # package for NIfTI image reading; https://github.com/jonclayden/RNifti\n",
    "# plot S1200_AverageT1w_81x96x81.nii.gz from https://osf.io/6hdxv/\n",
    "\n",
    "img <- readNifti(fname);    # however to refer to S1200_AverageT1w_81x96x81.nii.gz; url(\"https://osf.io/6hdxv/\") maybe?\n",
    "\n",
    "# the image values are in a 3d array (single anatomical image, not a timeseries)\n",
    "# can apply many normal functions\n",
    "dim(img);   # [1] 81 96 81\n",
    "max(img);  # [1] 1374.128\n",
    "img[30,20,50];  # value of this voxel\n",
    "\n",
    "image(img[,,50], col=gray(0:64/64), xlab=\"\", ylab=\"\", axes=FALSE, useRaster=TRUE);   # plot slice k=50\n",
    "image(img[,20,], col=gray(0:64/64), xlab=\"\", ylab=\"\", axes=FALSE, useRaster=TRUE);   # plot slice j=20\n",
    "\n",
    "# then similar for gifti? At least loading and getting parcel-average values out, maybe (show how vector, not 3d)\n",
    "\n"
   ]
  }
 ],
 "metadata": {
  "jupytext": {
   "formats": "md:myst",
   "text_representation": {
    "extension": ".md",
    "format_name": "myst"
   }
  },
  "kernelspec": {
   "display_name": "R",
   "language": "R",
   "name": "ir"
  },
  "language_info": {
   "codemirror_mode": "r",
   "file_extension": ".r",
   "mimetype": "text/x-r-source",
   "name": "R",
   "pygments_lexer": "r",
   "version": "4.1.3"
  },
  "source_map": [
   11,
   15
  ]
 },
 "nbformat": 4,
 "nbformat_minor": 5
}