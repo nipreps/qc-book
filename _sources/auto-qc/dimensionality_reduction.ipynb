{
 "cells": [
  {
   "cell_type": "code",
   "execution_count": 1,
   "id": "c4ccf5aa",
   "metadata": {
    "tags": [
     "remove-cell"
    ]
   },
   "outputs": [],
   "source": [
    "import numpy as np\n",
    "# Some configurations to \"beautify\" plots\n",
    "import matplotlib as mpl\n",
    "import matplotlib.pyplot as plt\n",
    "\n",
    "mpl.rcParams[\"font.family\"] = \"Libre Franklin\"\n",
    "plt.rcParams[\"axes.facecolor\"] = \"white\"\n",
    "plt.rcParams[\"savefig.facecolor\"] = \"white\""
   ]
  },
  {
   "cell_type": "markdown",
   "id": "2ed9b451",
   "metadata": {},
   "source": [
    "# Reducing the dimensionality of the metrics\n",
    "\n",
    "First, let's load the ABIDE dataset, and apply the site-wise normalization."
   ]
  },
  {
   "cell_type": "code",
   "execution_count": 2,
   "id": "c1185f3d",
   "metadata": {},
   "outputs": [
    {
     "ename": "KeyError",
     "evalue": "\"None of [Index(['site'], dtype='object')] are in the [columns]\"",
     "output_type": "error",
     "traceback": [
      "\u001b[0;31m---------------------------------------------------------------------------\u001b[0m",
      "\u001b[0;31mKeyError\u001b[0m                                  Traceback (most recent call last)",
      "Input \u001b[0;32mIn [2]\u001b[0m, in \u001b[0;36m<cell line: 10>\u001b[0;34m()\u001b[0m\n\u001b[1;32m      7\u001b[0m numeric_columns \u001b[38;5;241m=\u001b[39m train_x\u001b[38;5;241m.\u001b[39mcolumns\u001b[38;5;241m.\u001b[39mtolist()\n\u001b[1;32m      9\u001b[0m \u001b[38;5;66;03m# Harmonize between sites\u001b[39;00m\n\u001b[0;32m---> 10\u001b[0m scaled_x \u001b[38;5;241m=\u001b[39m \u001b[43mSiteRobustScaler\u001b[49m\u001b[43m(\u001b[49m\u001b[43munit_variance\u001b[49m\u001b[38;5;241;43m=\u001b[39;49m\u001b[38;5;28;43;01mTrue\u001b[39;49;00m\u001b[43m)\u001b[49m\u001b[38;5;241;43m.\u001b[39;49m\u001b[43mfit_transform\u001b[49m\u001b[43m(\u001b[49m\u001b[43mtrain_x\u001b[49m\u001b[43m)\u001b[49m\n",
      "File \u001b[0;32m/opt/hostedtoolcache/Python/3.9.12/x64/lib/python3.9/site-packages/sklearn/base.py:852\u001b[0m, in \u001b[0;36mTransformerMixin.fit_transform\u001b[0;34m(self, X, y, **fit_params)\u001b[0m\n\u001b[1;32m    848\u001b[0m \u001b[38;5;66;03m# non-optimized default implementation; override when a better\u001b[39;00m\n\u001b[1;32m    849\u001b[0m \u001b[38;5;66;03m# method is possible for a given clustering algorithm\u001b[39;00m\n\u001b[1;32m    850\u001b[0m \u001b[38;5;28;01mif\u001b[39;00m y \u001b[38;5;129;01mis\u001b[39;00m \u001b[38;5;28;01mNone\u001b[39;00m:\n\u001b[1;32m    851\u001b[0m     \u001b[38;5;66;03m# fit method of arity 1 (unsupervised transformation)\u001b[39;00m\n\u001b[0;32m--> 852\u001b[0m     \u001b[38;5;28;01mreturn\u001b[39;00m \u001b[38;5;28;43mself\u001b[39;49m\u001b[38;5;241;43m.\u001b[39;49m\u001b[43mfit\u001b[49m\u001b[43m(\u001b[49m\u001b[43mX\u001b[49m\u001b[43m,\u001b[49m\u001b[43m \u001b[49m\u001b[38;5;241;43m*\u001b[39;49m\u001b[38;5;241;43m*\u001b[39;49m\u001b[43mfit_params\u001b[49m\u001b[43m)\u001b[49m\u001b[38;5;241m.\u001b[39mtransform(X)\n\u001b[1;32m    853\u001b[0m \u001b[38;5;28;01melse\u001b[39;00m:\n\u001b[1;32m    854\u001b[0m     \u001b[38;5;66;03m# fit method of arity 2 (supervised transformation)\u001b[39;00m\n\u001b[1;32m    855\u001b[0m     \u001b[38;5;28;01mreturn\u001b[39;00m \u001b[38;5;28mself\u001b[39m\u001b[38;5;241m.\u001b[39mfit(X, y, \u001b[38;5;241m*\u001b[39m\u001b[38;5;241m*\u001b[39mfit_params)\u001b[38;5;241m.\u001b[39mtransform(X)\n",
      "File \u001b[0;32m/opt/hostedtoolcache/Python/3.9.12/x64/lib/python3.9/site-packages/mriqc_learn/models/preprocess.py:128\u001b[0m, in \u001b[0;36mSiteRobustScaler.fit\u001b[0;34m(self, X, y)\u001b[0m\n\u001b[1;32m    127\u001b[0m \u001b[38;5;28;01mdef\u001b[39;00m \u001b[38;5;21mfit\u001b[39m(\u001b[38;5;28mself\u001b[39m, X, y\u001b[38;5;241m=\u001b[39m\u001b[38;5;28;01mNone\u001b[39;00m):\n\u001b[0;32m--> 128\u001b[0m     sites \u001b[38;5;241m=\u001b[39m \u001b[43mX\u001b[49m\u001b[43m[\u001b[49m\u001b[43m[\u001b[49m\u001b[38;5;28;43mself\u001b[39;49m\u001b[38;5;241;43m.\u001b[39;49m\u001b[43mgroupby\u001b[49m\u001b[43m]\u001b[49m\u001b[43m]\u001b[49m\u001b[38;5;241m.\u001b[39mvalues\u001b[38;5;241m.\u001b[39msqueeze()\n\u001b[1;32m    129\u001b[0m     X_input \u001b[38;5;241m=\u001b[39m X\u001b[38;5;241m.\u001b[39mdrop([\u001b[38;5;28mself\u001b[39m\u001b[38;5;241m.\u001b[39mgroupby], axis\u001b[38;5;241m=\u001b[39m\u001b[38;5;241m1\u001b[39m)\n\u001b[1;32m    131\u001b[0m     \u001b[38;5;28mself\u001b[39m\u001b[38;5;241m.\u001b[39mscalers_ \u001b[38;5;241m=\u001b[39m {}\n",
      "File \u001b[0;32m/opt/hostedtoolcache/Python/3.9.12/x64/lib/python3.9/site-packages/pandas/core/frame.py:3511\u001b[0m, in \u001b[0;36mDataFrame.__getitem__\u001b[0;34m(self, key)\u001b[0m\n\u001b[1;32m   3509\u001b[0m     \u001b[38;5;28;01mif\u001b[39;00m is_iterator(key):\n\u001b[1;32m   3510\u001b[0m         key \u001b[38;5;241m=\u001b[39m \u001b[38;5;28mlist\u001b[39m(key)\n\u001b[0;32m-> 3511\u001b[0m     indexer \u001b[38;5;241m=\u001b[39m \u001b[38;5;28;43mself\u001b[39;49m\u001b[38;5;241;43m.\u001b[39;49m\u001b[43mcolumns\u001b[49m\u001b[38;5;241;43m.\u001b[39;49m\u001b[43m_get_indexer_strict\u001b[49m\u001b[43m(\u001b[49m\u001b[43mkey\u001b[49m\u001b[43m,\u001b[49m\u001b[43m \u001b[49m\u001b[38;5;124;43m\"\u001b[39;49m\u001b[38;5;124;43mcolumns\u001b[39;49m\u001b[38;5;124;43m\"\u001b[39;49m\u001b[43m)\u001b[49m[\u001b[38;5;241m1\u001b[39m]\n\u001b[1;32m   3513\u001b[0m \u001b[38;5;66;03m# take() does not accept boolean indexers\u001b[39;00m\n\u001b[1;32m   3514\u001b[0m \u001b[38;5;28;01mif\u001b[39;00m \u001b[38;5;28mgetattr\u001b[39m(indexer, \u001b[38;5;124m\"\u001b[39m\u001b[38;5;124mdtype\u001b[39m\u001b[38;5;124m\"\u001b[39m, \u001b[38;5;28;01mNone\u001b[39;00m) \u001b[38;5;241m==\u001b[39m \u001b[38;5;28mbool\u001b[39m:\n",
      "File \u001b[0;32m/opt/hostedtoolcache/Python/3.9.12/x64/lib/python3.9/site-packages/pandas/core/indexes/base.py:5782\u001b[0m, in \u001b[0;36mIndex._get_indexer_strict\u001b[0;34m(self, key, axis_name)\u001b[0m\n\u001b[1;32m   5779\u001b[0m \u001b[38;5;28;01melse\u001b[39;00m:\n\u001b[1;32m   5780\u001b[0m     keyarr, indexer, new_indexer \u001b[38;5;241m=\u001b[39m \u001b[38;5;28mself\u001b[39m\u001b[38;5;241m.\u001b[39m_reindex_non_unique(keyarr)\n\u001b[0;32m-> 5782\u001b[0m \u001b[38;5;28;43mself\u001b[39;49m\u001b[38;5;241;43m.\u001b[39;49m\u001b[43m_raise_if_missing\u001b[49m\u001b[43m(\u001b[49m\u001b[43mkeyarr\u001b[49m\u001b[43m,\u001b[49m\u001b[43m \u001b[49m\u001b[43mindexer\u001b[49m\u001b[43m,\u001b[49m\u001b[43m \u001b[49m\u001b[43maxis_name\u001b[49m\u001b[43m)\u001b[49m\n\u001b[1;32m   5784\u001b[0m keyarr \u001b[38;5;241m=\u001b[39m \u001b[38;5;28mself\u001b[39m\u001b[38;5;241m.\u001b[39mtake(indexer)\n\u001b[1;32m   5785\u001b[0m \u001b[38;5;28;01mif\u001b[39;00m \u001b[38;5;28misinstance\u001b[39m(key, Index):\n\u001b[1;32m   5786\u001b[0m     \u001b[38;5;66;03m# GH 42790 - Preserve name from an Index\u001b[39;00m\n",
      "File \u001b[0;32m/opt/hostedtoolcache/Python/3.9.12/x64/lib/python3.9/site-packages/pandas/core/indexes/base.py:5842\u001b[0m, in \u001b[0;36mIndex._raise_if_missing\u001b[0;34m(self, key, indexer, axis_name)\u001b[0m\n\u001b[1;32m   5840\u001b[0m     \u001b[38;5;28;01mif\u001b[39;00m use_interval_msg:\n\u001b[1;32m   5841\u001b[0m         key \u001b[38;5;241m=\u001b[39m \u001b[38;5;28mlist\u001b[39m(key)\n\u001b[0;32m-> 5842\u001b[0m     \u001b[38;5;28;01mraise\u001b[39;00m \u001b[38;5;167;01mKeyError\u001b[39;00m(\u001b[38;5;124mf\u001b[39m\u001b[38;5;124m\"\u001b[39m\u001b[38;5;124mNone of [\u001b[39m\u001b[38;5;132;01m{\u001b[39;00mkey\u001b[38;5;132;01m}\u001b[39;00m\u001b[38;5;124m] are in the [\u001b[39m\u001b[38;5;132;01m{\u001b[39;00maxis_name\u001b[38;5;132;01m}\u001b[39;00m\u001b[38;5;124m]\u001b[39m\u001b[38;5;124m\"\u001b[39m)\n\u001b[1;32m   5844\u001b[0m not_found \u001b[38;5;241m=\u001b[39m \u001b[38;5;28mlist\u001b[39m(ensure_index(key)[missing_mask\u001b[38;5;241m.\u001b[39mnonzero()[\u001b[38;5;241m0\u001b[39m]]\u001b[38;5;241m.\u001b[39munique())\n\u001b[1;32m   5845\u001b[0m \u001b[38;5;28;01mraise\u001b[39;00m \u001b[38;5;167;01mKeyError\u001b[39;00m(\u001b[38;5;124mf\u001b[39m\u001b[38;5;124m\"\u001b[39m\u001b[38;5;132;01m{\u001b[39;00mnot_found\u001b[38;5;132;01m}\u001b[39;00m\u001b[38;5;124m not in index\u001b[39m\u001b[38;5;124m\"\u001b[39m)\n",
      "\u001b[0;31mKeyError\u001b[0m: \"None of [Index(['site'], dtype='object')] are in the [columns]\""
     ]
    }
   ],
   "source": [
    "from mriqc_learn.viz import metrics\n",
    "from mriqc_learn.models.preprocess import SiteRobustScaler\n",
    "from mriqc_learn.datasets import load_dataset\n",
    "\n",
    "(train_x, train_y), _ = load_dataset(split_strategy=\"none\")\n",
    "train_x = train_x.drop(columns = ['size_x', 'size_y', 'size_z', 'spacing_x', 'spacing_y', 'spacing_z'], inplace = False)\n",
    "numeric_columns = train_x.columns.tolist()\n",
    "\n",
    "# Harmonize between sites\n",
    "scaled_x = SiteRobustScaler(unit_variance=True).fit_transform(train_x)"
   ]
  },
  {
   "cell_type": "markdown",
   "id": "80615ec8",
   "metadata": {},
   "source": [
    "We have a total of 62 features (i.e., metrics), and many of them are related (e.g., region-wise SNR calculations, or different ways of estimating a particular measure).\n",
    "Highly correlated (either positive or negatively correlated) are not adding much information about the image to one another.\n",
    "We therefore expect to see high (negative and positive) correlations between different metrics:"
   ]
  },
  {
   "cell_type": "code",
   "execution_count": null,
   "id": "e7a54f9f",
   "metadata": {},
   "outputs": [],
   "source": [
    "metrics.plot_corrmat(scaled_x[numeric_columns].corr(), figsize=(12, 12));"
   ]
  },
  {
   "cell_type": "markdown",
   "id": "c5e6ee01",
   "metadata": {},
   "source": [
    "## Principal Components Analysis (PCA)\n",
    "\n",
    "PCA is a fundamental statistical decomposition of data that was proposed to resolve the problem of source separation.\n",
    "By using a few of the largest components, the signal can effectively be reduced from our initial 62 channels into a much lower number.\n",
    "We will be using scikit-learn and scipy in this example:"
   ]
  },
  {
   "cell_type": "code",
   "execution_count": null,
   "id": "4e766783",
   "metadata": {},
   "outputs": [],
   "source": [
    "from scipy import stats\n",
    "from sklearn.decomposition import PCA"
   ]
  },
  {
   "cell_type": "markdown",
   "id": "0c0440f7",
   "metadata": {},
   "source": [
    "First we instantiate the model without limiting the number of components and fit the model to the numeric columns (i.e., without site of origin) of our dataframe:"
   ]
  },
  {
   "cell_type": "code",
   "execution_count": null,
   "id": "179b4328",
   "metadata": {},
   "outputs": [],
   "source": [
    "pca_model = PCA(n_components=None).fit(scaled_x[numeric_columns])"
   ]
  },
  {
   "cell_type": "markdown",
   "id": "7f83c293",
   "metadata": {},
   "source": [
    "Now let's investigate this PCA model.\n",
    "To make an educated guess of a sufficient number of components for properly representing the data, we typically look at an elbow plot showing the variance explained vs. the number of components."
   ]
  },
  {
   "cell_type": "code",
   "execution_count": null,
   "id": "2b53679c",
   "metadata": {},
   "outputs": [],
   "source": [
    "fig = plt.figure(figsize=(15,6))\n",
    "plt.plot(np.cumsum(pca.explained_variance_ratio_ * 100), \"-x\")\n",
    "plt.ylabel(\"Cumulative variance explained [%]\")\n",
    "plt.xlabel(\"Number of components\")\n",
    "plt.xticks(list(range(1, pca.explained_variance_ratio_.size + 1)))\n",
    "plt.show()"
   ]
  },
  {
   "cell_type": "markdown",
   "id": "c22ce81f",
   "metadata": {},
   "source": [
    "We can see that the first four components account for 99% of the variance, which is pretty high.\n",
    "Let's then choose to keep four components from now on:"
   ]
  },
  {
   "cell_type": "code",
   "execution_count": null,
   "id": "44d0e29f",
   "metadata": {},
   "outputs": [],
   "source": [
    "n_components = 4"
   ]
  },
  {
   "cell_type": "markdown",
   "id": "8e49804a",
   "metadata": {},
   "source": [
    "Components are no more than linear decomposition of the original metrics, so let's now look at the coefficients that correspond to the IQMs for each of those first four components:"
   ]
  },
  {
   "cell_type": "code",
   "execution_count": null,
   "id": "39829bf3",
   "metadata": {},
   "outputs": [],
   "source": [
    "basis = pca.components_[:n_components,:]\n",
    "fig, axs = plt.subplots(1, 4, sharex=False, sharey=False, figsize=(24, 6))\n",
    "for k in range(basis.shape[0]):\n",
    "    axs[k].plot(np.abs(basis[k,:]), \"x\")\n",
    "    axs[k].set_title(f\"Component {k + 1}\")"
   ]
  },
  {
   "cell_type": "markdown",
   "id": "7b9af7bf",
   "metadata": {},
   "source": [
    "The first two components are basically aligned with one original metric each.\n",
    "The second two are more composite of several metrics, but again only two features weight above 0.5, in both cases.\n",
    "\n",
    "Let's refit the model with the limitation of 4 components, and project our original data onto the new four-dimensional space."
   ]
  },
  {
   "cell_type": "code",
   "execution_count": null,
   "id": "8cf17271",
   "metadata": {},
   "outputs": [],
   "source": [
    "iqm_reduced = PCA(n_components=n_components).fit_transform(\n",
    "  scaled_x[numeric_columns]\n",
    ")\n",
    "components = pd.DataFrame(iqm_reduced, columns=[f\"PC{i}\" for i in range(1, n_components + 1)])\n",
    "components[\"site\"] = scaled_x[\"site\"].values\n",
    "components"
   ]
  },
  {
   "cell_type": "markdown",
   "id": "21c26243",
   "metadata": {},
   "source": [
    "The components should not be correlated:"
   ]
  },
  {
   "cell_type": "code",
   "execution_count": null,
   "id": "48ac480a",
   "metadata": {},
   "outputs": [],
   "source": [
    "metrics.plot_corrmat(scaled_x[numeric_columns].corr(), figsize=(12, 12));"
   ]
  }
 ],
 "metadata": {
  "jupytext": {
   "formats": "md:myst",
   "notebook_metadata_filter": "all,-language_info",
   "split_at_heading": true,
   "text_representation": {
    "extension": ".md",
    "format_name": "myst",
    "format_version": "0.8",
    "jupytext_version": "1.11.2"
   }
  },
  "kernelspec": {
   "display_name": "Python 3",
   "language": "python",
   "name": "python3"
  },
  "language_info": {
   "codemirror_mode": {
    "name": "ipython",
    "version": 3
   },
   "file_extension": ".py",
   "mimetype": "text/x-python",
   "name": "python",
   "nbconvert_exporter": "python",
   "pygments_lexer": "ipython3",
   "version": "3.9.12"
  },
  "source_map": [
   18,
   28,
   34,
   45,
   51,
   53,
   61,
   64,
   68,
   70,
   75,
   82,
   87,
   89,
   93,
   99,
   106,
   113,
   117
  ]
 },
 "nbformat": 4,
 "nbformat_minor": 5
}